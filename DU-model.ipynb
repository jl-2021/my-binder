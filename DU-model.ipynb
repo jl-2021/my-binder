{
 "cells": [
  {
   "cell_type": "code",
   "execution_count": null,
   "id": "a365b94f-895a-452a-a3c7-445333ba72b1",
   "metadata": {
    "editable": true,
    "slideshow": {
     "slide_type": ""
    },
    "tags": []
   },
   "outputs": [],
   "source": []
  },
  {
   "cell_type": "markdown",
   "id": "6aee4a2b-a769-4400-8cde-6965c35b478b",
   "metadata": {
    "editable": true,
    "slideshow": {
     "slide_type": "slide"
    },
    "tags": []
   },
   "source": [
    "<span style=\"font-size:1.25em;\">\n",
    "    \n",
    "## Discounted utility model\n",
    "\n",
    "- Usually attributed to Samuelson (1937), but note his analysis is in continuous time\n",
    "- Felicities $u_t(\\cdot)$ are additively time-separable\n",
    "- Exponential discounting, i.e. weight felicities $s$ periods ahead by $D_s \\equiv \\beta^s, \\quad 0 < \\beta < 1$\n",
    "\n",
    "$$ U_t \\equiv \\displaystyle \\max_{\\:\\displaystyle \\{c_s\\}_t^\\infty}  \\sum_{s=t}^\\infty \\beta^s u(c_s)\n",
    "$$\n",
    "\n",
    "</span>"
   ]
  },
  {
   "cell_type": "markdown",
   "id": "22d42601-23fe-486f-b4ec-0d0768c960b7",
   "metadata": {
    "editable": true,
    "slideshow": {
     "slide_type": ""
    },
    "tags": []
   },
   "source": [
    "<span style=\"font-size:1.25em;\">\n",
    "    \n",
    "## Cass&ndash;Koopmans&ndash;Ramsey\n",
    "\n",
    "In discrete time, the model is \n",
    "\n",
    "$$ U_t \\equiv \\displaystyle \\max_{\\:\\displaystyle \\{C_s\\}_t^\\infty}  \\sum_{s=t}^\\infty \\beta^s u(C_s)\n",
    "\\quad 0 < \\beta < 1$$\n",
    "\n",
    "subject to commodity balance and resource constraints\n",
    "\n",
    "$$ C(t) + I(t) \\le Y(K(t)) \\quad \\text{and} \\quad\n",
    " K(t+1) = \\left(1 - \\delta \\right) K(t) + I(t) $$\n",
    "\n",
    "or the combined constraint\n",
    "\n",
    "$$ K(t+1) = \\left(1 - \\delta \\right) K(t) + Y(K(t)) - C(t) $$\n",
    "\n",
    "</span>"
   ]
  },
  {
   "cell_type": "markdown",
   "id": "22386a64-98d7-4a76-9101-7e9a5c4b4be3",
   "metadata": {
    "editable": true,
    "slideshow": {
     "slide_type": ""
    },
    "tags": []
   },
   "source": [
    "<span style=\"font-size:1.2em;\">\n",
    "    \n",
    "## Planner's solution to CKR \n",
    "\n",
    "$$ \\mathcal{L} =  \\displaystyle \\max_{\\:\\displaystyle \\{C_s\\}_t^\\infty} \n",
    "\\min_{\\:\\displaystyle \\{ \\lambda_s \\}_t^\\infty } \\,\n",
    "\\sum_{s=t}^\\infty \\beta^s \\left\\{ u(C_s) \n",
    "+ \\lambda_s \\left(  \\left(1 - \\delta \\right) K_s + Y(K_s) - C_s - K_{s+1}\\right) \\right\\} $$\n",
    "\n",
    "- First order conditions, for all $s \\ge t$:\n",
    "\n",
    "$$  \\partial \\mathcal{L} /  \\partial C_s =  \\beta^s u^\\prime( C_s ) - \\beta^s \\lambda_s = 0 $$\n",
    "\n",
    "$$  {\\partial \\mathcal{L}} / { \\partial K_{s+1}} = \n",
    "- \\beta^s \\lambda_{s} + \\beta^{s+1} \\lambda_{s+1} \\left\\{\\left( 1 - \\delta \\right) + Y^\\prime(K_{s+1}) \\right\\}  = 0 $$\n",
    "\n",
    "$$  {\\partial \\mathcal{L}} / { \\partial \\lambda_s} =  \\beta^s \\left\\{ \\left(1 - \\delta \\right) K_s + Y(K_s) - C_s - K_{s+1} \\right\\} = 0 $$\n",
    "\n",
    "- $\\lambda_s$ is a penalty for exceeding the resource constraint. Differentiating w.r.t. $\\lambda_s$ just recovers the original constraints.\n",
    "\n",
    "</span>"
   ]
  },
  {
   "cell_type": "markdown",
   "id": "94c03120-3df3-49da-883a-0bf55727bd59",
   "metadata": {
    "editable": true,
    "slideshow": {
     "slide_type": ""
    },
    "tags": []
   },
   "source": [
    "<span style=\"font-size:1.2em;\">\n",
    "    \n",
    "## The household's Euler equation \n",
    "\n",
    "$$  \\lambda_s = u^\\prime( C_s ) $$\n",
    "\n",
    "$$   \\lambda_{s} = \\beta  \\lambda_{s+1} \\left\\{\\left( 1 - \\delta \\right) + Y^\\prime(K_{s+1}) \\right\\}  $$\n",
    "\n",
    "$$  \\frac{ u^\\prime( C_s )}{ u^\\prime( C_{s+1} ) } = \\beta  \\left\\{\\left( 1 - \\delta \\right) + Y^\\prime(K_{s+1}) \\right\\}$$\n",
    "\n",
    "When we consider a decentralised economy, we will see $Y^\\prime(K_{s+1}) = r_{s+1} + \\delta$ so $\n",
    "\\left\\{\\left( 1 - \\delta \\right) + Y^\\prime(K_{s+1}) \\right\\} = 1 + r=R$.\n",
    "\n",
    "\n",
    "</span>"
   ]
  },
  {
   "cell_type": "code",
   "execution_count": null,
   "id": "2862c4ca-3102-43ce-ae6f-27c604187b52",
   "metadata": {
    "editable": true,
    "slideshow": {
     "slide_type": ""
    },
    "tags": []
   },
   "outputs": [],
   "source": []
  },
  {
   "cell_type": "markdown",
   "id": "a4515f55-b786-4b32-ad47-07fa6213ffbd",
   "metadata": {
    "editable": true,
    "slideshow": {
     "slide_type": "slide"
    },
    "tags": []
   },
   "source": [
    "<span style=\"font-size:1.25em;\">\n",
    "    \n",
    "## Microeconomic evidence *against* exponential discounting\n",
    "\n",
    "- Impatience: $\\beta$ appears lower for near-term than for long-term choices\n",
    "- Committment: many people value being committed to save (e.g. superannuation contributions, mortgage payments)\n",
    "- Time inconsistency: people change their plans despite their circumstances remaining the same\n",
    "\n",
    "Alternatives such as *quasi-hyperbolic discounting* can account for this behaviour\n",
    "\n",
    "$$ U_t \\equiv \\displaystyle \\max_{\\:\\displaystyle \\{c_s\\}_t^\\infty} c_t + \\zeta \\sum_{s=t+1}^\\infty \\beta^s u(c_s)\n",
    "\\quad 0 < \\zeta < 1$$\n",
    "</span>"
   ]
  },
  {
   "cell_type": "markdown",
   "id": "0374760e-22dd-4319-8faa-f7e215557b9d",
   "metadata": {
    "editable": true,
    "slideshow": {
     "slide_type": "slide"
    },
    "tags": []
   },
   "source": [
    "<span style=\"font-size:1.25em;\">\n",
    "    \n",
    "## Intertemporal choice in macro models\n",
    "\n",
    "- Insights from behavioural economics increasingly been incorporated into macro models (Driscoll & Holden, 2014)\n",
    "- Well-known problems applying the standard Euler equation to aggregate consumption:\n",
    "    - Excess smoothness: households respond less than expected to news of future events\n",
    "    - Excess sensitivity: households respond more than expected to fluctuations in current income   \n",
    "- Different theories may explain the same empirical regularities, e.g.\n",
    "    - Internal habit in consumption (non-time-separable preferences)\n",
    "    - External habit in consumption (\"keeping up with the Joneses\")\n",
    "    - Rule-of-thumb consumers\n",
    "- Often hard to discriminate between them empirically\n",
    "- Choices often influenced by analytically or computationally tractability!\n",
    "\n",
    "</span>"
   ]
  },
  {
   "cell_type": "code",
   "execution_count": null,
   "id": "333e2cdc-73cb-45bf-b574-3fbf3ccf37d0",
   "metadata": {
    "editable": true,
    "slideshow": {
     "slide_type": ""
    },
    "tags": []
   },
   "outputs": [],
   "source": []
  },
  {
   "cell_type": "markdown",
   "id": "ce066fbd-6ad3-4a6b-97c5-9b99f6146794",
   "metadata": {
    "editable": true,
    "slideshow": {
     "slide_type": "slide"
    },
    "tags": []
   },
   "source": [
    "<span style=\"font-size:1.25em;\">\n",
    "    \n",
    "## Consumption habit\n",
    "\n",
    "- Internal consumption habit\n",
    "- Individual utility becomes non-time-separable\n",
    "  \n",
    "$$ U_t \\equiv \\displaystyle \\max_{\\:\\displaystyle \\{c_s\\}_t^\\infty}  \\sum_{s=t}^\\infty \\beta^s u(c_s - \\theta\\, c_{s-1})\n",
    "\\quad 0 < \\beta < 1$$\n",
    "\n",
    "- External consumption habit&mdash;\"keeping up with the Joneses\"\n",
    "- Individual utility remains time-separable\n",
    "- Individual choices are socially sub-optimal in a laissez-faire economy\n",
    "$$ U_t \\equiv \\displaystyle \\max_{\\:\\displaystyle \\{c_s\\}_t^\\infty}  \\sum_{s=t}^\\infty \\beta^s u(c_s - \\theta\\, \\bar{c}_{s-1})\n",
    "\\quad 0 < \\beta < 1$$\n",
    "\n",
    "</span>"
   ]
  },
  {
   "cell_type": "code",
   "execution_count": null,
   "id": "5bc7371d-5945-4618-832d-437b26f7a088",
   "metadata": {
    "editable": true,
    "slideshow": {
     "slide_type": ""
    },
    "tags": []
   },
   "outputs": [],
   "source": []
  }
 ],
 "metadata": {
  "kernelspec": {
   "display_name": "Python 3 (ipykernel)",
   "language": "python",
   "name": "python3"
  },
  "language_info": {
   "codemirror_mode": {
    "name": "ipython",
    "version": 3
   },
   "file_extension": ".py",
   "mimetype": "text/x-python",
   "name": "python",
   "nbconvert_exporter": "python",
   "pygments_lexer": "ipython3",
   "version": "3.11.4"
  }
 },
 "nbformat": 4,
 "nbformat_minor": 5
}
