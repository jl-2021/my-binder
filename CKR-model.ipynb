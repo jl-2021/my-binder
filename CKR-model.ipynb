{
 "cells": [
  {
   "cell_type": "code",
   "execution_count": null,
   "id": "a365b94f-895a-452a-a3c7-445333ba72b1",
   "metadata": {
    "editable": true,
    "slideshow": {
     "slide_type": ""
    },
    "tags": []
   },
   "outputs": [],
   "source": []
  },
  {
   "cell_type": "markdown",
   "id": "4e01314a-728c-4662-ac3d-052acd307cb3",
   "metadata": {
    "editable": true,
    "slideshow": {
     "slide_type": "slide"
    },
    "tags": []
   },
   "source": [
    "<span style=\"font-size:1.25em;\">\n",
    "    \n",
    "## Cass&ndash;Koopmans&ndash;Ramsey\n",
    "\n",
    "In discrete time, the model is \n",
    "\n",
    "$$ U_t \\equiv \\displaystyle \\max_{\\:\\displaystyle \\{C_s\\}_t^\\infty}  \n",
    "\\sum_{s=t}^\\infty \\beta^s N_s u(c_s) $$\n",
    "$$u^\\prime(c_s) > 0,\\:\\: u^{\\prime\\prime}(c_s) < 0,\\: \\text{ and }\\: 0 < \\beta < 1$$\n",
    "\n",
    "subject to commodity balance and resource constraints\n",
    "$$ N_s c_s + I_s \\le Y(K_s) \\quad \\text{and} \\quad\n",
    " K_{s+1} = \\left(1 - \\delta \\right) K_s + I_s, $$\n",
    "\n",
    "or the combined constraint\n",
    "$$ K_{s+1} = \\left(1 - \\delta \\right) K_s + Y(K_s) - N_s c_s. $$\n",
    "\n",
    "</span>"
   ]
  },
  {
   "cell_type": "markdown",
   "id": "22386a64-98d7-4a76-9101-7e9a5c4b4be3",
   "metadata": {
    "editable": true,
    "slideshow": {
     "slide_type": "slide"
    },
    "tags": []
   },
   "source": [
    "<span style=\"font-size:1.2em;\">\n",
    "    \n",
    "## Planner's solution to CKR \n",
    "\n",
    "- Form the Lagrangian\n",
    "$$ \\mathcal{L} =  \\displaystyle \\max_{\\:\\displaystyle \\{C_s\\}_t^\\infty} \n",
    "\\min_{\\:\\displaystyle \\{ \\lambda_s \\}_t^\\infty } \\,\n",
    "\\sum_{s=t}^\\infty \\beta^s \\left\\{ N_s u(c_s) \n",
    "+ \\lambda_s \\left(  \\left(1 - \\delta \\right) K_s + Y(K_s) - N_s c_s - K_{s+1}\\right) \\right\\} $$\n",
    "\n",
    "- Derive the first order conditions ($\\forall s \\ge t$):\n",
    "\n",
    "$$  \\partial \\mathcal{L} /  \\partial C_s =  \\beta^s N_s u^\\prime( c_s ) - \\beta^s \\lambda_s N_s = 0 $$\n",
    "\n",
    "$$  {\\partial \\mathcal{L}} / { \\partial K_{s+1}} = \n",
    "- \\beta^s \\lambda_{s} + \\beta^{s+1} \\lambda_{s+1} \\left\\{\\left( 1 - \\delta \\right) + Y^\\prime(K_{s+1}) \\right\\}  = 0 $$\n",
    "\n",
    "$$  {\\partial \\mathcal{L}} / { \\partial \\lambda_s} =  \\beta^s \\left\\{ \\left(1 - \\delta \\right) K_s + Y(K_s) - N_s c_s - K_{s+1} \\right\\} = 0 $$\n",
    "\n",
    "- $\\lambda_s$ is a penalty for exceeding the resource constraint.\n",
    "\n",
    "</span>"
   ]
  },
  {
   "cell_type": "markdown",
   "id": "94c03120-3df3-49da-883a-0bf55727bd59",
   "metadata": {
    "editable": true,
    "slideshow": {
     "slide_type": "slide"
    },
    "tags": []
   },
   "source": [
    "<span style=\"font-size:1.2em;\">\n",
    "    \n",
    "## CKR Euler equation \n",
    "\n",
    "Combine first order conditions w.r.t. $C_s$ and $K_{s+1}$\n",
    "$$  \\lambda_s = u^\\prime( C_s ) $$\n",
    "\n",
    "$$   \\lambda_{s} = \\beta  \\lambda_{s+1} \\left\\{\\left( 1 - \\delta \\right) + Y^\\prime(K_{s+1}) \\right\\}  $$\n",
    "\n",
    "To get the *Euler equation*:\n",
    "$$  \\frac{ u^\\prime( C_s )}{ u^\\prime( C_{s+1} ) } = \\beta  \\left\\{\\left( 1 - \\delta \\right) + Y^\\prime(K_{s+1}) \\right\\}$$\n",
    "\n",
    "We will see that in a decentralised economy, $Y^\\prime(K_{s+1}) = r_{s+1} + \\delta$, thus $\n",
    "\\left\\{\\left( 1 - \\delta \\right) + Y^\\prime(K_{s+1}) \\right\\} = 1 + r=R$.\n",
    "\n",
    "\n",
    "</span>"
   ]
  },
  {
   "cell_type": "code",
   "execution_count": null,
   "id": "5bc7371d-5945-4618-832d-437b26f7a088",
   "metadata": {
    "editable": true,
    "slideshow": {
     "slide_type": ""
    },
    "tags": []
   },
   "outputs": [],
   "source": []
  }
 ],
 "metadata": {
  "kernelspec": {
   "display_name": "Python 3 (ipykernel)",
   "language": "python",
   "name": "python3"
  },
  "language_info": {
   "codemirror_mode": {
    "name": "ipython",
    "version": 3
   },
   "file_extension": ".py",
   "mimetype": "text/x-python",
   "name": "python",
   "nbconvert_exporter": "python",
   "pygments_lexer": "ipython3",
   "version": "3.11.4"
  }
 },
 "nbformat": 4,
 "nbformat_minor": 5
}
